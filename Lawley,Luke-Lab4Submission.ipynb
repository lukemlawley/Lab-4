{
 "cells": [
  {
   "attachments": {},
   "cell_type": "markdown",
   "id": "beb550f5",
   "metadata": {},
   "source": [
    "# Lab 4\n",
    "\n",
    "[![image](https://colab.research.google.com/assets/colab-badge.svg)](https://colab.research.google.com/github/lukemlawley/Lab-4/blob/main/Lawley,Luke-Lab4Submission.ipynb)\n",
    "\n",
    "## Submission instructions\n",
    "\n",
    "1. Download the notebook from https://geosdemo.gishub.org/labs/lab4\n",
    "2. Complete the lab questions\n",
    "3. Restart Kernel and Run All Cells\n",
    "4. Upload the notebook to your GitHub repository\n",
    "5. Make sure the notebook has an `Open In Colab` badge. Click on the badge to make sure your notebook can be opened in Colab.\n",
    "6. Submit the link to the notebook on your GitHub repository to Canvas"
   ]
  },
  {
   "cell_type": "code",
   "execution_count": null,
   "id": "bfc1ddc5",
   "metadata": {},
   "outputs": [],
   "source": [
    "from datetime import datetime\n",
    "\n",
    "now = datetime.now()\n",
    "print(f\"Submitted time: {now}\")"
   ]
  },
  {
   "cell_type": "markdown",
   "id": "7e96934a",
   "metadata": {},
   "source": [
    "## Question 1\n",
    "\n",
    "**Personal Message:** Use a variable to represent a person’s name, and print a message to that person. Your message should be simple, such as, “Hello Eric, would you like to learn some Python today?”"
   ]
  },
  {
   "cell_type": "code",
   "execution_count": 7,
   "id": "063a8cb4",
   "metadata": {},
   "outputs": [
    {
     "name": "stdout",
     "output_type": "stream",
     "text": [
      "Hello Luke, how are you doing with learning how to use Python?\n"
     ]
    }
   ],
   "source": [
    "name = ['Luke']\n",
    "message = f\"Hello {name[0]}, how are you doing with learning how to use Python?\"\n",
    "print(message)"
   ]
  },
  {
   "cell_type": "markdown",
   "id": "83c4c9e9",
   "metadata": {},
   "source": [
    "## Question 2\n",
    "\n",
    "**Name Cases:** Use a variable to represent a person’s name, and then print that person’s name in lowercase, uppercase, and title case."
   ]
  },
  {
   "cell_type": "code",
   "execution_count": 22,
   "id": "35cfbbec",
   "metadata": {},
   "outputs": [
    {
     "name": "stdout",
     "output_type": "stream",
     "text": [
      "Here is how we print names in different cases\n",
      "luke lawley\n",
      "OR you could do it in upper case!\n",
      "LUKE LAWLEY\n",
      "Lastly, and this is important for variables that are representing proper nouns, there is the \"title\" case...\n",
      "Luke Lawley\n"
     ]
    }
   ],
   "source": [
    "print('Here is how we print names in different cases')\n",
    "name = 'luke lawley'\n",
    "print(name)\n",
    "print('OR you could do it in upper case!')\n",
    "print(name.upper())\n",
    "print('Lastly, and this is important for variables that are representing proper nouns, there is the \"title\" case...')\n",
    "print(name.title())"
   ]
  },
  {
   "cell_type": "markdown",
   "id": "8c8e92e4",
   "metadata": {},
   "source": [
    "## Question 3\n",
    "\n",
    "**Famous Quote:** Find a quote from a famous person you admire. Print the quote and the name of its author. Your output should look something like the following, including the quotation marks:\n",
    "\n",
    "```\n",
    "Albert Einstein once said, “A person who never made a mistake never tried anything new.”\n",
    "```"
   ]
  },
  {
   "cell_type": "code",
   "execution_count": 26,
   "id": "3bed6cb5",
   "metadata": {},
   "outputs": [
    {
     "name": "stdout",
     "output_type": "stream",
     "text": [
      "Alain de Botton once said in his book,The Pleasures and Sorrows of Work, that \"we might define art as anything which pushes our thoughts in important, yet neglected, directions\".\n"
     ]
    }
   ],
   "source": [
    "print('Alain de Botton once said in his book,The Pleasures and Sorrows of Work, that \"we might define art as anything which pushes our thoughts in important, yet neglected, directions\".')"
   ]
  },
  {
   "cell_type": "markdown",
   "id": "4b46d366",
   "metadata": {},
   "source": [
    "## Question 4\n",
    "\n",
    "**Stripping Names:** Use a variable to represent a person’s name, and include some whitespace characters at the beginning and end of the name. Make sure you use each character combination, \"\\t\" and \"\\n\", at least once.\n",
    "Print the name once, so the whitespace around the name is displayed. Then print the name using each of the three stripping functions, lstrip(), rstrip(), and strip()."
   ]
  },
  {
   "cell_type": "code",
   "execution_count": 5,
   "id": "bb5dbb0f",
   "metadata": {},
   "outputs": [
    {
     "name": "stdout",
     "output_type": "stream",
     "text": [
      "Okay, so now I am putting \"whitespace\" around my name like this...\n",
      "\tMy name is Luke Lawley.\n",
      "\tThis sentence also says my name is Luke Lawley, but now \n",
      "\tit has a Line Break AND a tab.\n",
      "Here is my name with the different strip commands.\n",
      "Luke Lawley\n",
      "Luke Lawley\n",
      "Luke Lawley\n"
     ]
    }
   ],
   "source": [
    "print('Okay, so now I am putting \"whitespace\" around my name like this...') \n",
    "name = 'Luke Lawley'\n",
    "print(f\"\\tMy name is {name}.\")\n",
    "print(f\"\\tThis sentence also says my name is Luke Lawley, but now \\n\\tit has a Line Break AND a tab.\")\n",
    "\n",
    "print(\"Here is my name with the different strip commands.\")\n",
    "\n",
    "print(name.rstrip())\n",
    "print(name.lstrip())\n",
    "print(name.strip())\n"
   ]
  },
  {
   "cell_type": "markdown",
   "id": "32cce0d9",
   "metadata": {},
   "source": [
    "## Question 5\n",
    "\n",
    "**Names:** Store the names of a few of your friends in a list called names. Print\n",
    "each person’s name by accessing each element in the list, one at a time."
   ]
  },
  {
   "cell_type": "code",
   "execution_count": 9,
   "id": "13da6459",
   "metadata": {},
   "outputs": [
    {
     "name": "stdout",
     "output_type": "stream",
     "text": [
      "Olivia Lamm\n",
      "Hannah Williams\n",
      "Tracy Homer\n",
      "Whitty Buck\n",
      "Julianne Moss\n"
     ]
    }
   ],
   "source": [
    "names = ['olivia lamm','hannah williams', 'tracy homer','whitty buck','julianne moss','hollie arnsdorff']\n",
    "print(names[0].title())\n",
    "print(names[1].title())\n",
    "print(names[2].title())\n",
    "print(names[3].title())\n",
    "print(names[4].title())"
   ]
  },
  {
   "cell_type": "markdown",
   "id": "aaaa5c8f",
   "metadata": {},
   "source": [
    "## Question 6\n",
    "\n",
    "**Your Own List:** Think of your favorite mode of transportation, such as a motorcycle or a car, and make a list that stores several examples. Use your list to print a series of statements about these items, such as “I would like to own a Honda motorcycle.”"
   ]
  },
  {
   "cell_type": "code",
   "execution_count": 11,
   "id": "eba0829e",
   "metadata": {},
   "outputs": [
    {
     "name": "stdout",
     "output_type": "stream",
     "text": [
      "I think I could afford a tacoma, or maybe a camaro.\n",
      "But my dream car would really be a bronco. \n",
      "While it would be fun to drive ferraris and stingrays, I like the durability associate with broncos.\n"
     ]
    }
   ],
   "source": [
    "favorite_cars = ['ferrari', 'stingray','bronco', 'tacoma', 'camaro','mustang']\n",
    "print(f\"I think I could afford a {favorite_cars[3]}, or maybe a {favorite_cars[4]}.\")\n",
    "print(f\"But my dream car would really be a {favorite_cars[2]}. \\nWhile it would be fun to drive {favorite_cars[0]}s and {favorite_cars[1]}s, I like the durability associate with {favorite_cars[2]}s.\")"
   ]
  },
  {
   "cell_type": "markdown",
   "id": "e4b4452f",
   "metadata": {},
   "source": [
    "## Question 7\n",
    "\n",
    "**Pizzas:** Think of at least three kinds of your favorite pizza. Store these pizza names in a list, and then use a for loop to print the name of each pizza.\n",
    "\n",
    "Modify your for loop to print a sentence using the name of the pizza instead of printing just the name of the pizza. For each pizza you should have one line of output containing a simple statement like _I like pepperoni pizza._"
   ]
  },
  {
   "cell_type": "code",
   "execution_count": 53,
   "id": "dca8629f",
   "metadata": {},
   "outputs": [
    {
     "name": "stdout",
     "output_type": "stream",
     "text": [
      "I really like putting pepperoni on my pizza.\n",
      "I really like putting ham on my pizza.\n",
      "I really like putting sausage on my pizza.\n",
      "I really like most pizzas! Especially with meats on them.\n"
     ]
    }
   ],
   "source": [
    "pizzas = ['pepperoni', 'ham', 'sausage']\n",
    "for number in pizzas:\n",
    "    print(f\"I really like putting {number} on my pizza.\")\n",
    "print(\"I really like most pizzas! Especially with meats on them.\")"
   ]
  },
  {
   "cell_type": "markdown",
   "id": "b3b70e8e",
   "metadata": {},
   "source": [
    "Add a line at the end of your program, outside the for loop, that states how much you like pizza. The output should consist of three or more lines about the kinds of pizza you like and then an additional sentence, such as _I really love pizza!_"
   ]
  },
  {
   "cell_type": "code",
   "execution_count": 62,
   "id": "9397930e",
   "metadata": {},
   "outputs": [
    {
     "name": "stdout",
     "output_type": "stream",
     "text": [
      "I like putting pepperoni on my pizza!\n",
      "I like putting ham on my pizza!\n",
      "I like putting sausage on my pizza!\n",
      "Pizza is such a great party food!\n"
     ]
    }
   ],
   "source": [
    "order = ['some', 'more', 'the most']\n",
    "for number in pizzas:\n",
    "    print(f\"I like putting {number} on my pizza!\")\n",
    "print(\"Pizza is such a great party food!\")"
   ]
  },
  {
   "cell_type": "markdown",
   "id": "6e42f992",
   "metadata": {},
   "source": [
    "## Question 8\n",
    "\n",
    "**Animals:** Think of at least three different animals that have a common characteristic. Store the names of these animals in a list, and then use a for loop to print out the name of each animal.\n",
    "\n",
    "Modify your program to print a statement about each animal, such as _A dog would make a great pet._"
   ]
  },
  {
   "cell_type": "code",
   "execution_count": 79,
   "id": "7489fb55",
   "metadata": {},
   "outputs": [
    {
     "name": "stdout",
     "output_type": "stream",
     "text": [
      "A cat would be a great pet for people who like indoor activities!\n",
      "A dog would be a great pet for people that like the outdoors!\n",
      "A cow would be a great pet, but only if you have enough land!\n"
     ]
    }
   ],
   "source": [
    "fourlegged_animals = ['cat', 'dog', 'cow']\n",
    "for animal in fourlegged_animals:\n",
    "    if animal == 'cat':\n",
    "        print(f\"A {fourlegged_animals[0]} would be a great pet for people who like indoor activities!\")\n",
    "    if animal == 'dog':\n",
    "        print(f\"A {fourlegged_animals[1]} would be a great pet for people that like the outdoors!\")\n",
    "    if animal == 'cow':\n",
    "        print(f\"A {fourlegged_animals[2]} would be a great pet, but only if you have enough land!\")"
   ]
  },
  {
   "cell_type": "markdown",
   "id": "b4484392",
   "metadata": {},
   "source": [
    "Add a line at the end of your program stating what these animals have in common. You could print a sentence such as _Any of these animals would make a great pet!_"
   ]
  },
  {
   "cell_type": "code",
   "execution_count": 81,
   "id": "eb9f8e19",
   "metadata": {},
   "outputs": [
    {
     "name": "stdout",
     "output_type": "stream",
     "text": [
      "A cat would be a great pet for people who like indoor activities!\n",
      "A dog would be a great pet for people that like the outdoors!\n",
      "A cow would be a great pet, but only if you have enough land!\n",
      "There are a lot of people who like these animals as pets!\n"
     ]
    }
   ],
   "source": [
    "fourlegged_animals = ['cat', 'dog', 'cow']\n",
    "for animal in fourlegged_animals:\n",
    "    if animal == 'cat':\n",
    "        print(f\"A {fourlegged_animals[0]} would be a great pet for people who like indoor activities!\")\n",
    "    if animal == 'dog':\n",
    "        print(f\"A {fourlegged_animals[1]} would be a great pet for people that like the outdoors!\")\n",
    "    if animal == 'cow':\n",
    "        print(f\"A {fourlegged_animals[2]} would be a great pet, but only if you have enough land!\")\n",
    "print(\"There are a lot of people who like these animals as pets!\")"
   ]
  },
  {
   "cell_type": "markdown",
   "id": "ba99ccb5",
   "metadata": {},
   "source": [
    "## Question 9\n",
    "\n",
    "**Summing a Hundred:** Make a list of the numbers from one to one hundred, and then use `min()` and `max()` to make sure your list actually starts at one and ends at one hundred. Also, use the sum() function to see how quickly Python can add a hundred numbers."
   ]
  },
  {
   "cell_type": "code",
   "execution_count": 97,
   "id": "6c6a27a9",
   "metadata": {},
   "outputs": [
    {
     "name": "stdout",
     "output_type": "stream",
     "text": [
      "[1, 2, 3, 4, 5, 6, 7, 8, 9, 10, 11, 12, 13, 14, 15, 16, 17, 18, 19, 20, 21, 22, 23, 24, 25, 26, 27, 28, 29, 30, 31, 32, 33, 34, 35, 36, 37, 38, 39, 40, 41, 42, 43, 44, 45, 46, 47, 48, 49, 50, 51, 52, 53, 54, 55, 56, 57, 58, 59, 60, 61, 62, 63, 64, 65, 66, 67, 68, 69, 70, 71, 72, 73, 74, 75, 76, 77, 78, 79, 80, 81, 82, 83, 84, 85, 86, 87, 88, 89, 90, 91, 92, 93, 94, 95, 96, 97, 98, 99, 100]\n",
      "1\n",
      "100\n",
      "5050\n"
     ]
    }
   ],
   "source": [
    "numbers = list(range(1,101))\n",
    "print(numbers)\n",
    "print(min(numbers))\n",
    "print(max(numbers))\n",
    "print(sum(numbers))"
   ]
  },
  {
   "cell_type": "markdown",
   "id": "d165cd3c",
   "metadata": {},
   "source": [
    "## Question 10\n",
    "\n",
    "**Odd Numbers:** Use the third argument of the `range()` function to make a list of the odd numbers from 1 to 20. Use a `for` loop to print each number."
   ]
  },
  {
   "cell_type": "code",
   "execution_count": 103,
   "id": "d276920a",
   "metadata": {},
   "outputs": [
    {
     "name": "stdout",
     "output_type": "stream",
     "text": [
      "1\n",
      "3\n",
      "5\n",
      "7\n",
      "9\n",
      "11\n",
      "13\n",
      "15\n",
      "17\n",
      "19\n"
     ]
    }
   ],
   "source": [
    "for odd_numbers in list(range(1,20,2)):\n",
    "    print(odd_numbers)"
   ]
  },
  {
   "cell_type": "markdown",
   "id": "9e49d9eb",
   "metadata": {},
   "source": [
    "## Question 11\n",
    "\n",
    "**Threes:** Make a list of the multiples of 3 from 3 to 30. Use a `for` loop to print the numbers in your list."
   ]
  },
  {
   "cell_type": "code",
   "execution_count": 104,
   "id": "4ff24fc6",
   "metadata": {},
   "outputs": [
    {
     "name": "stdout",
     "output_type": "stream",
     "text": [
      "3\n",
      "6\n",
      "9\n",
      "12\n",
      "15\n",
      "18\n",
      "21\n",
      "24\n",
      "27\n",
      "30\n"
     ]
    }
   ],
   "source": [
    "for multiples in list(range(3,31,3)):\n",
    "    print(multiples)"
   ]
  },
  {
   "cell_type": "markdown",
   "id": "dbcce457",
   "metadata": {},
   "source": [
    "## Question 12\n",
    "\n",
    "**Cube Comprehension:** Use a list comprehension to generate a list of the first 10 cubes."
   ]
  },
  {
   "cell_type": "code",
   "execution_count": 111,
   "id": "df0901f8",
   "metadata": {},
   "outputs": [
    {
     "name": "stdout",
     "output_type": "stream",
     "text": [
      "1\n",
      "8\n",
      "27\n",
      "64\n",
      "125\n",
      "216\n",
      "343\n",
      "512\n",
      "729\n",
      "1000\n"
     ]
    }
   ],
   "source": [
    "values = [i**3 for i in list(range(1,11))]\n",
    "for cubes in values:\n",
    "    print(cubes)"
   ]
  },
  {
   "cell_type": "markdown",
   "id": "c6946e7b",
   "metadata": {},
   "source": [
    "## Question 13\n",
    "\n",
    "**Slices:** Using one of the programs you wrote in this lab, add several lines to the end of the program that do the following:\n",
    "\n",
    "Print the message _The first three items in the list are:_. Then use a slice to print the first three items from that program’s list."
   ]
  },
  {
   "cell_type": "code",
   "execution_count": 117,
   "id": "0e03e488",
   "metadata": {},
   "outputs": [
    {
     "name": "stdout",
     "output_type": "stream",
     "text": [
      "The first three items in my 'names' list are ['olivia lamm', 'hannah williams', 'tracy homer']\n"
     ]
    }
   ],
   "source": [
    "firstthree = names[0:3:]\n",
    "print(f\"The first three items in my 'names' list are {firstthree}\")"
   ]
  },
  {
   "cell_type": "markdown",
   "id": "6f88722c",
   "metadata": {},
   "source": [
    "Print the message _Three items from the middle of the list are:_. Use a slice to print three items from the middle of the list."
   ]
  },
  {
   "cell_type": "code",
   "execution_count": 118,
   "id": "6859a061",
   "metadata": {},
   "outputs": [
    {
     "name": "stdout",
     "output_type": "stream",
     "text": [
      "The three middle names on my 'names' list include ['hannah williams', 'tracy homer', 'whitty buck'].\n"
     ]
    }
   ],
   "source": [
    "midthree = names[1:4:]\n",
    "print(f\"The three middle names on my 'names' list include {midthree}.\")"
   ]
  },
  {
   "cell_type": "markdown",
   "id": "0abc8cec",
   "metadata": {},
   "source": [
    "Print the message _The last three items in the list are:_. Use a slice to print the last three items in the list."
   ]
  },
  {
   "cell_type": "code",
   "execution_count": 121,
   "id": "64988cac",
   "metadata": {},
   "outputs": [
    {
     "name": "stdout",
     "output_type": "stream",
     "text": [
      "And the last three on my 'names' list are ['whitty buck', 'julianne moss', 'hollie arnsdorff']\n"
     ]
    }
   ],
   "source": [
    "lastthree = names[3:6:]\n",
    "print(f\"And the last three on my 'names' list are {lastthree}\")"
   ]
  },
  {
   "cell_type": "markdown",
   "id": "36876b9d",
   "metadata": {},
   "source": [
    "## Question 14\n",
    "\n",
    "**Buffet:** A buffet-style restaurant offers only five basic foods. Think of five simple foods, and store them in a tuple.\n",
    "\n",
    "Use a for loop to print each food the restaurant offers."
   ]
  },
  {
   "cell_type": "code",
   "execution_count": 123,
   "id": "6f186d8a",
   "metadata": {},
   "outputs": [
    {
     "name": "stdout",
     "output_type": "stream",
     "text": [
      "fries\n",
      "chicken\n",
      "ribs\n",
      "rolls\n",
      "hash browns\n"
     ]
    }
   ],
   "source": [
    "foods = ('fries', 'chicken', 'ribs', 'rolls', 'hash browns')\n",
    "for number in foods:\n",
    "    print(number)"
   ]
  },
  {
   "cell_type": "markdown",
   "id": "0a6ba7f3",
   "metadata": {},
   "source": [
    "The restaurant changes its menu, replacing two of the items with different foods. Add a line that rewrites the tuple, and then use a for loop to print each of the items on the revised menu."
   ]
  },
  {
   "cell_type": "code",
   "execution_count": 124,
   "id": "79b11cbc",
   "metadata": {},
   "outputs": [
    {
     "name": "stdout",
     "output_type": "stream",
     "text": [
      "fries\n",
      "chicken\n",
      "cheeseburgers\n",
      "baked beans\n",
      "hash browns\n"
     ]
    }
   ],
   "source": [
    "changes = list(foods)\n",
    "changes[2] = 'cheeseburgers'\n",
    "changes[3] = 'baked beans'\n",
    "foods = tuple(changes)\n",
    "for number in foods:\n",
    "    print(number)"
   ]
  },
  {
   "cell_type": "markdown",
   "id": "337ac27d",
   "metadata": {},
   "source": [
    "## Question 15\n",
    "\n",
    "**Alien Colors:** Imagine an alien was just shot down in a game. Create a variable called `alien_color` and assign it a value of `green, yellow,` or `red`.\n",
    "\n",
    "-   Write an if statement to test whether the alien’s color is green. If it is, print a message that the player just earned 5 points.\n",
    "-   Write one version of this program that passes the if test and another that fails. (The version that fails will have no output.)"
   ]
  },
  {
   "cell_type": "code",
   "execution_count": 140,
   "id": "cc3198fa",
   "metadata": {},
   "outputs": [
    {
     "name": "stdout",
     "output_type": "stream",
     "text": [
      "No points!\n",
      "Aim for only the Green Aliens!\n"
     ]
    }
   ],
   "source": [
    "alien_color = 'yellow'\n",
    "if alien_color == 'green':\n",
    "    print(\"+5 points!\")\n",
    "else:\n",
    "    print(\"No points!\")\n",
    "    print(\"Aim for only the Green Aliens!\")\n"
   ]
  },
  {
   "cell_type": "markdown",
   "id": "57465bab",
   "metadata": {},
   "source": [
    "## Question 16\n",
    "\n",
    "**Stages of Life:** Write an `if-elif-else` chain that determines a person’s stage of life. Set a value for the variable `age`, and then:\n",
    "\n",
    "-   If the person is less than 2 years old, print a message that the person is a baby.\n",
    "-   If the person is at least 2 years old but less than 4, print a message that the person is a toddler.\n",
    "-   If the person is at least 4 years old but less than 13, print a message that the person is a kid.\n",
    "-   If the person is at least 13 years old but less than 20, print a message that the person is a teenager.\n",
    "-   If the person is at least 20 years old but less than 65, print a message that the person is an adult."
   ]
  },
  {
   "cell_type": "code",
   "execution_count": 145,
   "id": "b09c364a",
   "metadata": {},
   "outputs": [
    {
     "name": "stdout",
     "output_type": "stream",
     "text": [
      "Adult\n"
     ]
    }
   ],
   "source": [
    "age = 24\n",
    "if age < 2:\n",
    "    print(\"Infancy\")\n",
    "elif 2<=age<4:\n",
    "    print(\"Toddler\")\n",
    "elif 4<= age <13:\n",
    "    print(\"Kid\")\n",
    "elif 13<= age <20:\n",
    "    print(\"Teenager\")\n",
    "elif 20<= age <65:\n",
    "    print(\"Adult\")\n",
    "else:\n",
    "    print(\"Senior\")\n"
   ]
  },
  {
   "cell_type": "markdown",
   "id": "96b3da06",
   "metadata": {},
   "source": [
    "## Question 17\n",
    "\n",
    "**Favorite Fruit:** Make a list of your favorite fruits, and then write a series of independent `if` statements that check for certain fruits in your list.\n",
    "\n",
    "-   Make a list of your three favorite fruits and call it favorite_fruits.\n",
    "-   Write five if statements. Each should check whether a certain kind of fruit is in your list. If the fruit is in your list, the if block should print a statement, such as You really like bananas!"
   ]
  },
  {
   "cell_type": "code",
   "execution_count": 17,
   "id": "fc58635c",
   "metadata": {},
   "outputs": [
    {
     "name": "stdout",
     "output_type": "stream",
     "text": [
      "Good choice! But that isn't one of my favorite fruits!\n"
     ]
    }
   ],
   "source": [
    "favorite_fruits = ['oranges', 'pineapple', 'bananas']\n",
    "fruit = 'grapes'\n",
    "if fruit in favorite_fruits:\n",
    "    print(\"Oranges are great! I like citrus and they have a lot of Vitamin C\")\n",
    "if fruit in favorite_fruits:\n",
    "    print(\"Bananas are delicious! They have a lot of potassium\")\n",
    "if fruit in favorite_fruits:\n",
    "    print(\"Pineapple is my favorite! I like the sour taste!\")\n",
    "else:\n",
    "    print(\"Good choice! But that isn't one of my favorite fruits!\")"
   ]
  },
  {
   "cell_type": "markdown",
   "id": "71e4c6f1",
   "metadata": {},
   "source": [
    "## Question 18\n",
    "\n",
    "**Hello Admin:** Make a list of five or more usernames, including the name `admin`. Imagine you are writing code that will print a greeting to each user after they log in to a website. Loop through the list, and print a greeting to each user:\n",
    "\n",
    "-   If the username is 'admin', print a special greeting, such as _Hello admin, would you like to see a status report?_\n",
    "-   Otherwise, print a generic greeting, such as _Hello Jaden, thank you for logging in again_."
   ]
  },
  {
   "cell_type": "code",
   "execution_count": 18,
   "id": "651e8bf2",
   "metadata": {},
   "outputs": [
    {
     "name": "stdout",
     "output_type": "stream",
     "text": [
      "Hello staff, what can I do for you?\n",
      "Hello Administrator! How can I help you today?\n",
      "Hello student, what can I do for you?\n",
      "Hello professor, what can I do for you?\n",
      "Hello maintenance, what can I do for you?\n",
      "Hello GTA, what can I do for you?\n"
     ]
    }
   ],
   "source": [
    "usernames = ['staff', 'admin', 'student', 'professor', 'maintenance', 'GTA']\n",
    "for i in range(len(usernames)):\n",
    "    if i == 1:\n",
    "        print(\"Hello Administrator! How can I help you today?\")\n",
    "    else:\n",
    "        print(f\"Hello {usernames[i]}, what can I do for you?\")"
   ]
  },
  {
   "cell_type": "markdown",
   "id": "fd53a583",
   "metadata": {},
   "source": [
    "## Question 19\n",
    "\n",
    "**Checking Usernames:** Do the following to create a program that simulates how websites ensure that everyone has a unique username.\n",
    "\n",
    "-   Make a list of five or more usernames called `current_users`.\n",
    "-   Make another list of five usernames called `new_users`. Make sure one or two of the new usernames are also in the `current_users` list.\n",
    "-   Loop through the `new_users` list to see if each new username has already been used. If it has, print a message that the person will need to enter a new username. If a username has not been used, print a message saying that the username is available.\n",
    "-   Make sure your comparison is case insensitive. If 'John' has been used, 'JOHN' should not be accepted. (To do this, you’ll need to make a copy of `current_users` containing the lowercase versions of all existing users.)"
   ]
  },
  {
   "cell_type": "code",
   "execution_count": 1,
   "id": "9f1a4a8d",
   "metadata": {},
   "outputs": [
    {
     "name": "stdout",
     "output_type": "stream",
     "text": [
      "Hello anakinskywalker! Your username is available!\n",
      "Hello mando! Your username is available!\n",
      "Hello yoda! Your username is available!\n",
      "THIS USERNAME IS TAKEN. PLEASE ENTER NEW NAME.\n",
      "THIS USERNAME IS TAKEN. PLEASE ENTER NEW NAME.\n",
      "Hello r2d2! Your username is available!\n"
     ]
    }
   ],
   "source": [
    "current_users = ['LukeSkywalker', 'DARTHVADER', 'ObiwanKenobi', 'c3po', 'hansolo', 'chewbacca']\n",
    "new_users = ['anakinskywalker', 'mando', 'yoda', 'darthvader', 'obiwankenobi', 'r2d2']\n",
    "for i in range(len(new_users)):\n",
    "    new_users_lowercase = list(map(lambda x: x.lower(),['anakinskywalker', 'mando', 'yoda', 'darthvader', 'obiwankenobi', 'r2d2']))\n",
    "    current_users_lowercase = list(map(lambda x: x.lower(), ['LukeSkywalker', 'DARTHVADER', 'ObiwanKenobi', 'c3po', 'hansolo', 'chewbacca']))\n",
    "    if new_users_lowercase[i] in current_users_lowercase:\n",
    "        print(\"THIS USERNAME IS TAKEN. PLEASE ENTER NEW NAME.\")\n",
    "    else:\n",
    "        print(f\"Hello {new_users[i]}! Your username is available!\")"
   ]
  },
  {
   "cell_type": "markdown",
   "id": "20f8412b",
   "metadata": {},
   "source": [
    "## Question 20\n",
    "\n",
    "**Ordinal Numbers:** Ordinal numbers indicate their position in a list, such as _1st_ or _2nd_. Most ordinal numbers end in _th_, except 1, 2, and 3.\n",
    "\n",
    "-   Store the numbers 1 through 9 in a list.\n",
    "-   Loop through the list.\n",
    "-   Use an `if-elif-else` chain inside the loop to print the proper ordinal ending for each number. Your output should read \"1st 2nd 3rd 4th 5th 6th 7th 8th 9th\", and each result should be on a separate line."
   ]
  },
  {
   "cell_type": "code",
   "execution_count": 4,
   "id": "26777860",
   "metadata": {},
   "outputs": [
    {
     "name": "stdout",
     "output_type": "stream",
     "text": [
      "1st\n",
      "2nd\n",
      "3rd\n",
      "4th\n",
      "5th\n",
      "6th\n",
      "7th\n",
      "8th\n",
      "9th\n"
     ]
    }
   ],
   "source": [
    "ordinals = list(range(1,10))\n",
    "for i in ordinals:\n",
    "    if i == 1:\n",
    "        print(f\"{i}st\")\n",
    "    elif i == 2:\n",
    "        print(f\"{i}nd\")\n",
    "    elif i == 3:\n",
    "        print(f\"{i}rd\")\n",
    "    else:\n",
    "        print(f\"{i}th\")"
   ]
  }
 ],
 "metadata": {
  "kernelspec": {
   "display_name": "Python 3.9.12 ('base')",
   "language": "python",
   "name": "python3"
  },
  "language_info": {
   "codemirror_mode": {
    "name": "ipython",
    "version": 3
   },
   "file_extension": ".py",
   "mimetype": "text/x-python",
   "name": "python",
   "nbconvert_exporter": "python",
   "pygments_lexer": "ipython3",
   "version": "3.9.12"
  },
  "vscode": {
   "interpreter": {
    "hash": "ad2bdc8ecc057115af97d19610ffacc2b4e99fae6737bb82f5d7fb13d2f2c186"
   }
  }
 },
 "nbformat": 4,
 "nbformat_minor": 5
}
